{
 "cells": [
  {
   "cell_type": "code",
   "execution_count": 1,
   "metadata": {},
   "outputs": [],
   "source": [
    "import pandas as pd\n",
    "\n",
    "import fsspec\n",
    "\n",
    "fs = fsspec.filesystem(\n",
    "    'filecache',\n",
    "    target_protocol='s3',\n",
    "    target_options={\n",
    "        'key': 'YCAJEZ9PJ6itAHdK91ZPoWAp1',\n",
    "        'secret': 'YCMesgjgH3dgexMVchUF5d9XRzBqYJGFllsUTP3v',\n",
    "        'client_kwargs': {'endpoint_url': 'https://storage.yandexcloud.net'}\n",
    "    },\n",
    "    cache_storage='data',\n",
    "    check_files=True)"
   ]
  },
  {
   "cell_type": "code",
   "execution_count": 2,
   "metadata": {},
   "outputs": [],
   "source": [
    "with fs.open('s3://snap-simfin/us-shareprices-daily-2022-10-20.zip') as f:\n",
    "    prices = pd.read_csv(f, compression='zip', sep=';')"
   ]
  },
  {
   "cell_type": "code",
   "execution_count": 19,
   "metadata": {},
   "outputs": [],
   "source": [
    "prices['price_scaling'] = prices.Close.pct_change() + 1"
   ]
  },
  {
   "cell_type": "code",
   "execution_count": 20,
   "metadata": {},
   "outputs": [],
   "source": [
    "prices['div_scaling'] = (prices.Dividend / prices.Close) + 1"
   ]
  },
  {
   "cell_type": "code",
   "execution_count": null,
   "metadata": {},
   "outputs": [],
   "source": []
  }
 ],
 "metadata": {
  "kernelspec": {
   "display_name": "Python 3.10.8 ('finexp-kq5KHByb')",
   "language": "python",
   "name": "python3"
  },
  "language_info": {
   "codemirror_mode": {
    "name": "ipython",
    "version": 3
   },
   "file_extension": ".py",
   "mimetype": "text/x-python",
   "name": "python",
   "nbconvert_exporter": "python",
   "pygments_lexer": "ipython3",
   "version": "3.10.8"
  },
  "orig_nbformat": 4,
  "vscode": {
   "interpreter": {
    "hash": "53f5b0e110f8af3b85e6f32d505193a6d00069ba37c92f143d8432bb1da31a18"
   }
  }
 },
 "nbformat": 4,
 "nbformat_minor": 2
}
